{
 "cells": [
  {
   "cell_type": "markdown",
   "id": "1cce1620",
   "metadata": {
    "id": "uDV9I-lkPEh9"
   },
   "source": [
    "# Cerebral Carcinoma Detection Using Magnetic Resonance Imaging with Deep Learning Techniques\n",
    "\n",
    "\n",
    "\n",
    "---\n",
    "\n",
    "\n",
    "\n",
    "---\n",
    "\n",
    "\n",
    "\n"
   ]
  },
  {
   "cell_type": "markdown",
   "id": "f337e548",
   "metadata": {
    "id": "ppNrPy8aPbtf"
   },
   "source": [
    "## Importing Modules"
   ]
  },
  {
   "cell_type": "code",
   "execution_count": 1,
   "id": "20e9804c",
   "metadata": {
    "executionInfo": {
     "elapsed": 3794,
     "status": "ok",
     "timestamp": 1664068427506,
     "user": {
      "displayName": "Preethika Ajay kumar",
      "userId": "02585285017962127374"
     },
     "user_tz": -330
    },
    "id": "forbidden-algorithm"
   },
   "outputs": [],
   "source": [
    "import tensorflow as tf\n",
    "import numpy as np\n",
    "from tensorflow import keras\n",
    "import os\n",
    "from tensorflow.keras.preprocessing.image import ImageDataGenerator\n",
    "from tensorflow.keras.preprocessing import image\n",
    "import matplotlib.pyplot as plt"
   ]
  },
  {
   "cell_type": "markdown",
   "id": "a42265e7",
   "metadata": {
    "id": "N8NabkqePhoX"
   },
   "source": [
    "## Preparing Dataset"
   ]
  },
  {
   "cell_type": "code",
   "execution_count": 2,
   "id": "bd7069f5",
   "metadata": {
    "executionInfo": {
     "elapsed": 406,
     "status": "ok",
     "timestamp": 1664069375728,
     "user": {
      "displayName": "Preethika Ajay kumar",
      "userId": "02585285017962127374"
     },
     "user_tz": -330
    },
    "id": "future-sarah"
   },
   "outputs": [],
   "source": [
    "height_ = 100\n",
    "width_ = 100"
   ]
  },
  {
   "cell_type": "code",
   "execution_count": 3,
   "id": "bf171f86",
   "metadata": {
    "colab": {
     "base_uri": "https://localhost:8080/"
    },
    "executionInfo": {
     "elapsed": 27987,
     "status": "ok",
     "timestamp": 1664068463907,
     "user": {
      "displayName": "Preethika Ajay kumar",
      "userId": "02585285017962127374"
     },
     "user_tz": -330
    },
    "id": "FPgc1H11CYkQ",
    "outputId": "253ffe45-d73c-456b-c86e-8f693fc03d2c"
   },
   "outputs": [],
   "source": [
    "# from google.colab import drive\n",
    "# drive.mount('/content/drive/')"
   ]
  },
  {
   "cell_type": "code",
   "execution_count": 4,
   "id": "43159a7d",
   "metadata": {
    "executionInfo": {
     "elapsed": 408,
     "status": "ok",
     "timestamp": 1664068476774,
     "user": {
      "displayName": "Preethika Ajay kumar",
      "userId": "02585285017962127374"
     },
     "user_tz": -330
    },
    "id": "apparent-phrase"
   },
   "outputs": [],
   "source": [
    "train = ImageDataGenerator(rescale=1/255, rotation_range = 0.2, brightness_range = (0.1,0.3))\n",
    "test = ImageDataGenerator(rescale=1/255, rotation_range = 0.2, brightness_range = (0.1,0.3))"
   ]
  },
  {
   "cell_type": "code",
   "execution_count": 5,
   "id": "f0852476",
   "metadata": {
    "colab": {
     "base_uri": "https://localhost:8080/"
    },
    "executionInfo": {
     "elapsed": 438,
     "status": "ok",
     "timestamp": 1664068468890,
     "user": {
      "displayName": "Preethika Ajay kumar",
      "userId": "02585285017962127374"
     },
     "user_tz": -330
    },
    "id": "ojnVPNqAjhXZ",
    "outputId": "8beb098e-416e-4e07-e6ea-021f017cd7d8"
   },
   "outputs": [],
   "source": [
    "# cd drive/MyDrive"
   ]
  },
  {
   "cell_type": "code",
   "execution_count": 6,
   "id": "7d2bd9da",
   "metadata": {
    "colab": {
     "base_uri": "https://localhost:8080/"
    },
    "executionInfo": {
     "elapsed": 1829,
     "status": "ok",
     "timestamp": 1664068483224,
     "user": {
      "displayName": "Preethika Ajay kumar",
      "userId": "02585285017962127374"
     },
     "user_tz": -330
    },
    "id": "dominant-independence",
    "outputId": "8d77d1fc-356c-476a-d557-80e073ada8c0"
   },
   "outputs": [
    {
     "ename": "FileNotFoundError",
     "evalue": "[WinError 3] The system cannot find the path specified: 'Train/'",
     "output_type": "error",
     "traceback": [
      "\u001b[1;31m---------------------------------------------------------------------------\u001b[0m",
      "\u001b[1;31mFileNotFoundError\u001b[0m                         Traceback (most recent call last)",
      "Cell \u001b[1;32mIn [6], line 1\u001b[0m\n\u001b[1;32m----> 1\u001b[0m train_dataset \u001b[38;5;241m=\u001b[39m train\u001b[38;5;241m.\u001b[39mflow_from_directory(\u001b[38;5;124m\"\u001b[39m\u001b[38;5;124mTrain/\u001b[39m\u001b[38;5;124m\"\u001b[39m,\n\u001b[0;32m      2\u001b[0m                                           target_size\u001b[38;5;241m=\u001b[39m(width_, height_), \n\u001b[0;32m      3\u001b[0m                                             \u001b[38;5;66;03m# color_mode='grayscale',\u001b[39;00m\n\u001b[0;32m      4\u001b[0m                                             batch_size\u001b[38;5;241m=\u001b[39m\u001b[38;5;241m8\u001b[39m,\n\u001b[0;32m      5\u001b[0m                                             class_mode\u001b[38;5;241m=\u001b[39m\u001b[38;5;124m'\u001b[39m\u001b[38;5;124mbinary\u001b[39m\u001b[38;5;124m'\u001b[39m)\n\u001b[0;32m      7\u001b[0m val_dataset \u001b[38;5;241m=\u001b[39m test\u001b[38;5;241m.\u001b[39mflow_from_directory(\u001b[38;5;124m\"\u001b[39m\u001b[38;5;124mTest/\u001b[39m\u001b[38;5;124m\"\u001b[39m,\n\u001b[0;32m      8\u001b[0m                                           target_size\u001b[38;5;241m=\u001b[39m(width_, height_),\n\u001b[0;32m      9\u001b[0m                                             \u001b[38;5;66;03m# color_mode='grayscale',\u001b[39;00m\n\u001b[0;32m     10\u001b[0m                                             batch_size\u001b[38;5;241m=\u001b[39m\u001b[38;5;241m8\u001b[39m,\n\u001b[0;32m     11\u001b[0m                                             class_mode\u001b[38;5;241m=\u001b[39m\u001b[38;5;124m'\u001b[39m\u001b[38;5;124mbinary\u001b[39m\u001b[38;5;124m'\u001b[39m)\n",
      "File \u001b[1;32m~\\AppData\\Local\\Programs\\Python\\Python310\\lib\\site-packages\\keras\\preprocessing\\image.py:1650\u001b[0m, in \u001b[0;36mImageDataGenerator.flow_from_directory\u001b[1;34m(self, directory, target_size, color_mode, classes, class_mode, batch_size, shuffle, seed, save_to_dir, save_prefix, save_format, follow_links, subset, interpolation, keep_aspect_ratio)\u001b[0m\n\u001b[0;32m   1564\u001b[0m \u001b[38;5;28;01mdef\u001b[39;00m \u001b[38;5;21mflow_from_directory\u001b[39m(\n\u001b[0;32m   1565\u001b[0m     \u001b[38;5;28mself\u001b[39m,\n\u001b[0;32m   1566\u001b[0m     directory,\n\u001b[1;32m   (...)\u001b[0m\n\u001b[0;32m   1580\u001b[0m     keep_aspect_ratio\u001b[38;5;241m=\u001b[39m\u001b[38;5;28;01mFalse\u001b[39;00m,\n\u001b[0;32m   1581\u001b[0m ):\n\u001b[0;32m   1582\u001b[0m     \u001b[38;5;124;03m\"\"\"Takes the path to a directory & generates batches of augmented data.\u001b[39;00m\n\u001b[0;32m   1583\u001b[0m \n\u001b[0;32m   1584\u001b[0m \u001b[38;5;124;03m    Args:\u001b[39;00m\n\u001b[1;32m   (...)\u001b[0m\n\u001b[0;32m   1648\u001b[0m \u001b[38;5;124;03m            and `y` is a numpy array of corresponding labels.\u001b[39;00m\n\u001b[0;32m   1649\u001b[0m \u001b[38;5;124;03m    \"\"\"\u001b[39;00m\n\u001b[1;32m-> 1650\u001b[0m     \u001b[38;5;28;01mreturn\u001b[39;00m \u001b[43mDirectoryIterator\u001b[49m\u001b[43m(\u001b[49m\n\u001b[0;32m   1651\u001b[0m \u001b[43m        \u001b[49m\u001b[43mdirectory\u001b[49m\u001b[43m,\u001b[49m\n\u001b[0;32m   1652\u001b[0m \u001b[43m        \u001b[49m\u001b[38;5;28;43mself\u001b[39;49m\u001b[43m,\u001b[49m\n\u001b[0;32m   1653\u001b[0m \u001b[43m        \u001b[49m\u001b[43mtarget_size\u001b[49m\u001b[38;5;241;43m=\u001b[39;49m\u001b[43mtarget_size\u001b[49m\u001b[43m,\u001b[49m\n\u001b[0;32m   1654\u001b[0m \u001b[43m        \u001b[49m\u001b[43mcolor_mode\u001b[49m\u001b[38;5;241;43m=\u001b[39;49m\u001b[43mcolor_mode\u001b[49m\u001b[43m,\u001b[49m\n\u001b[0;32m   1655\u001b[0m \u001b[43m        \u001b[49m\u001b[43mkeep_aspect_ratio\u001b[49m\u001b[38;5;241;43m=\u001b[39;49m\u001b[43mkeep_aspect_ratio\u001b[49m\u001b[43m,\u001b[49m\n\u001b[0;32m   1656\u001b[0m \u001b[43m        \u001b[49m\u001b[43mclasses\u001b[49m\u001b[38;5;241;43m=\u001b[39;49m\u001b[43mclasses\u001b[49m\u001b[43m,\u001b[49m\n\u001b[0;32m   1657\u001b[0m \u001b[43m        \u001b[49m\u001b[43mclass_mode\u001b[49m\u001b[38;5;241;43m=\u001b[39;49m\u001b[43mclass_mode\u001b[49m\u001b[43m,\u001b[49m\n\u001b[0;32m   1658\u001b[0m \u001b[43m        \u001b[49m\u001b[43mdata_format\u001b[49m\u001b[38;5;241;43m=\u001b[39;49m\u001b[38;5;28;43mself\u001b[39;49m\u001b[38;5;241;43m.\u001b[39;49m\u001b[43mdata_format\u001b[49m\u001b[43m,\u001b[49m\n\u001b[0;32m   1659\u001b[0m \u001b[43m        \u001b[49m\u001b[43mbatch_size\u001b[49m\u001b[38;5;241;43m=\u001b[39;49m\u001b[43mbatch_size\u001b[49m\u001b[43m,\u001b[49m\n\u001b[0;32m   1660\u001b[0m \u001b[43m        \u001b[49m\u001b[43mshuffle\u001b[49m\u001b[38;5;241;43m=\u001b[39;49m\u001b[43mshuffle\u001b[49m\u001b[43m,\u001b[49m\n\u001b[0;32m   1661\u001b[0m \u001b[43m        \u001b[49m\u001b[43mseed\u001b[49m\u001b[38;5;241;43m=\u001b[39;49m\u001b[43mseed\u001b[49m\u001b[43m,\u001b[49m\n\u001b[0;32m   1662\u001b[0m \u001b[43m        \u001b[49m\u001b[43msave_to_dir\u001b[49m\u001b[38;5;241;43m=\u001b[39;49m\u001b[43msave_to_dir\u001b[49m\u001b[43m,\u001b[49m\n\u001b[0;32m   1663\u001b[0m \u001b[43m        \u001b[49m\u001b[43msave_prefix\u001b[49m\u001b[38;5;241;43m=\u001b[39;49m\u001b[43msave_prefix\u001b[49m\u001b[43m,\u001b[49m\n\u001b[0;32m   1664\u001b[0m \u001b[43m        \u001b[49m\u001b[43msave_format\u001b[49m\u001b[38;5;241;43m=\u001b[39;49m\u001b[43msave_format\u001b[49m\u001b[43m,\u001b[49m\n\u001b[0;32m   1665\u001b[0m \u001b[43m        \u001b[49m\u001b[43mfollow_links\u001b[49m\u001b[38;5;241;43m=\u001b[39;49m\u001b[43mfollow_links\u001b[49m\u001b[43m,\u001b[49m\n\u001b[0;32m   1666\u001b[0m \u001b[43m        \u001b[49m\u001b[43msubset\u001b[49m\u001b[38;5;241;43m=\u001b[39;49m\u001b[43msubset\u001b[49m\u001b[43m,\u001b[49m\n\u001b[0;32m   1667\u001b[0m \u001b[43m        \u001b[49m\u001b[43minterpolation\u001b[49m\u001b[38;5;241;43m=\u001b[39;49m\u001b[43minterpolation\u001b[49m\u001b[43m,\u001b[49m\n\u001b[0;32m   1668\u001b[0m \u001b[43m        \u001b[49m\u001b[43mdtype\u001b[49m\u001b[38;5;241;43m=\u001b[39;49m\u001b[38;5;28;43mself\u001b[39;49m\u001b[38;5;241;43m.\u001b[39;49m\u001b[43mdtype\u001b[49m\u001b[43m,\u001b[49m\n\u001b[0;32m   1669\u001b[0m \u001b[43m    \u001b[49m\u001b[43m)\u001b[49m\n",
      "File \u001b[1;32m~\\AppData\\Local\\Programs\\Python\\Python310\\lib\\site-packages\\keras\\preprocessing\\image.py:563\u001b[0m, in \u001b[0;36mDirectoryIterator.__init__\u001b[1;34m(self, directory, image_data_generator, target_size, color_mode, classes, class_mode, batch_size, shuffle, seed, data_format, save_to_dir, save_prefix, save_format, follow_links, subset, interpolation, keep_aspect_ratio, dtype)\u001b[0m\n\u001b[0;32m    561\u001b[0m \u001b[38;5;28;01mif\u001b[39;00m \u001b[38;5;129;01mnot\u001b[39;00m classes:\n\u001b[0;32m    562\u001b[0m     classes \u001b[38;5;241m=\u001b[39m []\n\u001b[1;32m--> 563\u001b[0m     \u001b[38;5;28;01mfor\u001b[39;00m subdir \u001b[38;5;129;01min\u001b[39;00m \u001b[38;5;28msorted\u001b[39m(\u001b[43mos\u001b[49m\u001b[38;5;241;43m.\u001b[39;49m\u001b[43mlistdir\u001b[49m\u001b[43m(\u001b[49m\u001b[43mdirectory\u001b[49m\u001b[43m)\u001b[49m):\n\u001b[0;32m    564\u001b[0m         \u001b[38;5;28;01mif\u001b[39;00m os\u001b[38;5;241m.\u001b[39mpath\u001b[38;5;241m.\u001b[39misdir(os\u001b[38;5;241m.\u001b[39mpath\u001b[38;5;241m.\u001b[39mjoin(directory, subdir)):\n\u001b[0;32m    565\u001b[0m             classes\u001b[38;5;241m.\u001b[39mappend(subdir)\n",
      "\u001b[1;31mFileNotFoundError\u001b[0m: [WinError 3] The system cannot find the path specified: 'Train/'"
     ]
    }
   ],
   "source": [
    "train_dataset = train.flow_from_directory(\"Train/\",\n",
    "                                          target_size=(width_, height_), \n",
    "                                            # color_mode='grayscale',\n",
    "                                            batch_size=8,\n",
    "                                            class_mode='binary')\n",
    "                                         \n",
    "val_dataset = test.flow_from_directory(\"Test/\",\n",
    "                                          target_size=(width_, height_),\n",
    "                                            # color_mode='grayscale',\n",
    "                                            batch_size=8,\n",
    "                                            class_mode='binary')"
   ]
  },
  {
   "cell_type": "code",
   "execution_count": null,
   "id": "f2bbfbb6",
   "metadata": {
    "colab": {
     "base_uri": "https://localhost:8080/"
    },
    "executionInfo": {
     "elapsed": 436,
     "status": "ok",
     "timestamp": 1664068485794,
     "user": {
      "displayName": "Preethika Ajay kumar",
      "userId": "02585285017962127374"
     },
     "user_tz": -330
    },
    "id": "urban-idaho",
    "outputId": "8f54f5cd-8caa-4305-8b38-df08686e8c20"
   },
   "outputs": [],
   "source": [
    "train_dataset.class_indices"
   ]
  },
  {
   "cell_type": "markdown",
   "id": "02cf8700",
   "metadata": {
    "id": "VGxtzLm6PlID"
   },
   "source": [
    "## Preparing Model"
   ]
  },
  {
   "cell_type": "code",
   "execution_count": null,
   "id": "53ae0676",
   "metadata": {
    "executionInfo": {
     "elapsed": 1055,
     "status": "ok",
     "timestamp": 1664068491302,
     "user": {
      "displayName": "Preethika Ajay kumar",
      "userId": "02585285017962127374"
     },
     "user_tz": -330
    },
    "id": "earlier-albert"
   },
   "outputs": [],
   "source": [
    "with tf.device('/device:GPU:0'):\n",
    "    SIZE_OF_IP = (width_, height_, 3) \n",
    "    model = keras.Sequential()\n",
    "\n",
    "    # Convolutional layer and maxpool layer 1\n",
    "    model.add(keras.layers.Conv2D(32,(3,3),activation='relu',input_shape=SIZE_OF_IP))\n",
    "    model.add(keras.layers.MaxPool2D(2,2))\n",
    "\n",
    "    # Convolutional layer and maxpool layer 2\n",
    "    model.add(keras.layers.Conv2D(64,(3,3),activation='relu'))\n",
    "    model.add(keras.layers.MaxPool2D(2,2))\n",
    "\n",
    "    # Convolutional layer and maxpool layer 3\n",
    "    model.add(keras.layers.Conv2D(128,(3,3),activation='relu'))\n",
    "    model.add(keras.layers.MaxPool2D(2,2))\n",
    "    model.add(keras.layers.Dropout(0.2))\n",
    "\n",
    "\n",
    "    # # Convolutional layer and maxpool layer 4\n",
    "    # model.add(keras.layers.Conv2D(128,(3,3),activation='relu'))\n",
    "    # model.add(keras.layers.MaxPool2D(2,2))\n",
    "\n",
    "    model.add(keras.layers.Flatten())\n",
    "    model.add(keras.layers.Dense(512,activation='relu'))\n",
    "\n",
    "   # Op layer\n",
    "    model.add(keras.layers.Dense(1,activation='sigmoid'))"
   ]
  },
  {
   "cell_type": "markdown",
   "id": "89ef7a52",
   "metadata": {
    "id": "rzOdeYhtPopX"
   },
   "source": [
    "## Training"
   ]
  },
  {
   "cell_type": "code",
   "execution_count": null,
   "id": "07cfec7d",
   "metadata": {
    "colab": {
     "base_uri": "https://localhost:8080/"
    },
    "executionInfo": {
     "elapsed": 124372,
     "status": "ok",
     "timestamp": 1664068622693,
     "user": {
      "displayName": "Preethika Ajay kumar",
      "userId": "02585285017962127374"
     },
     "user_tz": -330
    },
    "id": "measured-likelihood",
    "outputId": "b1017bdf-4b4e-4541-d11b-f832e82a7c0d"
   },
   "outputs": [],
   "source": [
    "with tf.device('/device:GPU:0'):\n",
    "    model.compile(optimizer='rmsprop',loss='binary_crossentropy',metrics=['accuracy'])\n",
    "    history = model.fit(train_dataset,epochs = 10,validation_data = val_dataset)"
   ]
  },
  {
   "cell_type": "code",
   "execution_count": null,
   "id": "f0ab91bd",
   "metadata": {
    "colab": {
     "base_uri": "https://localhost:8080/",
     "height": 317
    },
    "executionInfo": {
     "elapsed": 710,
     "status": "ok",
     "timestamp": 1664011063228,
     "user": {
      "displayName": "Preethika Ajay kumar",
      "userId": "02585285017962127374"
     },
     "user_tz": -330
    },
    "id": "PRhNxworHuh9",
    "outputId": "99c416cf-c9fd-4b32-defe-f32df9c39cae"
   },
   "outputs": [],
   "source": [
    "acc = history.history['accuracy']\n",
    "val_acc = history.history['val_accuracy']\n",
    "epochs = range(len(acc))\n",
    "\n",
    "plt.plot(epochs, acc, 'b', label='Training Accuracy')\n",
    "plt.plot(epochs, val_acc, 'r', label='Validation Accuracy')\n",
    "plt.title('Accuracy Graph')\n",
    "plt.legend()\n",
    "plt.figure()\n"
   ]
  },
  {
   "cell_type": "markdown",
   "id": "42e5e0e5",
   "metadata": {
    "id": "0O3b6pHWP6_7"
   },
   "source": [
    "## Saving Model"
   ]
  },
  {
   "cell_type": "code",
   "execution_count": null,
   "id": "2a49cce5",
   "metadata": {
    "id": "0lj9aARxP6s5"
   },
   "outputs": [],
   "source": [
    "model.save(\"park_grayscale_drop.h5\")"
   ]
  },
  {
   "cell_type": "markdown",
   "id": "a6c6f37c",
   "metadata": {
    "id": "GvlRMFiwPszs"
   },
   "source": [
    "## Loading Model"
   ]
  },
  {
   "cell_type": "code",
   "execution_count": null,
   "id": "81ee376d",
   "metadata": {
    "colab": {
     "base_uri": "https://localhost:8080/"
    },
    "executionInfo": {
     "elapsed": 3599,
     "status": "ok",
     "timestamp": 1664068788076,
     "user": {
      "displayName": "Preethika Ajay kumar",
      "userId": "02585285017962127374"
     },
     "user_tz": -330
    },
    "id": "1ZjXyWsPOROW",
    "outputId": "697a8109-bda7-48d0-a504-3df20c6a35a6"
   },
   "outputs": [],
   "source": [
    "from keras import models\n",
    "\n",
    "savedModel = models.load_model('park_grayscale_drop.h5')\n",
    "savedModel.summary()"
   ]
  },
  {
   "cell_type": "markdown",
   "id": "162888e5",
   "metadata": {
    "id": "tgGRYR-lPzQs"
   },
   "source": [
    "## Inferencing"
   ]
  },
  {
   "cell_type": "code",
   "execution_count": null,
   "id": "856a9040",
   "metadata": {},
   "outputs": [],
   "source": [
    "from PIL import Image, ImageOps"
   ]
  },
  {
   "cell_type": "code",
   "execution_count": null,
   "id": "12ea5129",
   "metadata": {
    "executionInfo": {
     "elapsed": 408,
     "status": "ok",
     "timestamp": 1664068819403,
     "user": {
      "displayName": "Preethika Ajay kumar",
      "userId": "02585285017962127374"
     },
     "user_tz": -330
    },
    "id": "ndn9td8PIVZC"
   },
   "outputs": [],
   "source": [
    "def make_list_of_imgs(path):\n",
    "    imgs = []\n",
    "    valid_images = [\".png\"]\n",
    "    for f in os.listdir(path):\n",
    "        ext = os.path.splitext(f)[1]\n",
    "        if ext.lower() not in valid_images:\n",
    "            continue\n",
    "        imgs.append(path + f)\n",
    "    return imgs"
   ]
  },
  {
   "cell_type": "code",
   "execution_count": null,
   "id": "7e21f184",
   "metadata": {
    "executionInfo": {
     "elapsed": 5,
     "status": "ok",
     "timestamp": 1664068842257,
     "user": {
      "displayName": "Preethika Ajay kumar",
      "userId": "02585285017962127374"
     },
     "user_tz": -330
    },
    "id": "KofxRtMMOpIL"
   },
   "outputs": [],
   "source": [
    "def tumor_prediction(*argv): \n",
    "    count_p = 0\n",
    "    count_n = 0\n",
    "    for arg in argv: \n",
    "        for filename in arg:\n",
    "            # image_read = cv2.imread(filename)\n",
    "            print(filename)\n",
    "            im = Image.open(filename)\n",
    "            im2 = im.convert('RGB')\n",
    "            im2 = im2.resize((height_, width_))\n",
    "            # print(im1.shape)\n",
    "            # image_read = cv2.resize(image_read, (height_, width_))\n",
    "            image = np.array(im2) \n",
    "            # image = np.reshape(image, [100, 100, 3])\n",
    "            plt.show()\n",
    "            plt.imshow(image)\n",
    "           \n",
    "            X = np.expand_dims(image,axis=0)\n",
    "            result = savedModel.predict(X)\n",
    "#             print(val)\n",
    "            if result == 1:\n",
    "                plt.xlabel(\"Parkinsons\",fontsize=15)\n",
    "                count_p += 1\n",
    "\n",
    "\n",
    "            elif result == 0:\n",
    "                plt.xlabel(\"Normal\",fontsize=15)\n",
    "                count_n += 1\n",
    "#         print(\"Normal: \", count_n)\n",
    "#         print(\"Parkinsons: \", count_p)\n",
    "    return count_p, count_n"
   ]
  },
  {
   "cell_type": "markdown",
   "id": "c9bfd30a",
   "metadata": {
    "id": "y88Ak3y6QF4L"
   },
   "source": [
    "### Testing on MRI images with cerebral Carcinoma"
   ]
  },
  {
   "cell_type": "code",
   "execution_count": null,
   "id": "1e532826",
   "metadata": {},
   "outputs": [],
   "source": [
    "fp, tn = tumor_prediction(make_list_of_imgs('Test/Normal/') )\n",
    "# make_list_of_imgs('Test/Normal/')"
   ]
  },
  {
   "cell_type": "markdown",
   "id": "97b6e931",
   "metadata": {
    "id": "zx3X79v_Qcl4"
   },
   "source": [
    "### Testing with MRI images without cerebral carcinoma"
   ]
  },
  {
   "cell_type": "code",
   "execution_count": null,
   "id": "7ec71a00",
   "metadata": {
    "colab": {
     "base_uri": "https://localhost:8080/",
     "height": 1000
    },
    "executionInfo": {
     "elapsed": 7308,
     "status": "ok",
     "timestamp": 1664069289445,
     "user": {
      "displayName": "Preethika Ajay kumar",
      "userId": "02585285017962127374"
     },
     "user_tz": -330
    },
    "id": "wREE-vkAQaPM",
    "outputId": "0d5c5cb2-1262-41db-8a82-7e8337ca9e18"
   },
   "outputs": [],
   "source": [
    "tp, fn = tumor_prediction(make_list_of_imgs('Test/Parkinson/') )#classified"
   ]
  },
  {
   "cell_type": "markdown",
   "id": "623c8020",
   "metadata": {
    "id": "U9TB_FoFRXZX"
   },
   "source": [
    "Out of the 10 test images, 9 were classified correctly"
   ]
  },
  {
   "cell_type": "code",
   "execution_count": null,
   "id": "c9ce372e",
   "metadata": {
    "id": "l3zLYQL7SqnK"
   },
   "outputs": [],
   "source": [
    "def accuracy_cnn(tp, tn, fp, fn):\n",
    "    return (tp + tn)/(tp + tn + fp + fn)"
   ]
  },
  {
   "cell_type": "code",
   "execution_count": null,
   "id": "d87303ec",
   "metadata": {},
   "outputs": [],
   "source": [
    "accuracy_cnn(tp, tn, fp, fn)"
   ]
  },
  {
   "cell_type": "code",
   "execution_count": null,
   "id": "98323835",
   "metadata": {},
   "outputs": [],
   "source": []
  }
 ],
 "metadata": {
  "colab": {
   "collapsed_sections": [],
   "provenance": [
    {
     "file_id": "12yih_Szxm7pQcYkFBXXhTeL_VdVt1m0z",
     "timestamp": 1663999657827
    }
   ]
  },
  "kernelspec": {
   "display_name": "Python 3 (ipykernel)",
   "language": "python",
   "name": "python3"
  },
  "language_info": {
   "codemirror_mode": {
    "name": "ipython",
    "version": 3
   },
   "file_extension": ".py",
   "mimetype": "text/x-python",
   "name": "python",
   "nbconvert_exporter": "python",
   "pygments_lexer": "ipython3",
   "version": "3.10.1"
  }
 },
 "nbformat": 4,
 "nbformat_minor": 5
}
