{
 "cells": [
  {
   "cell_type": "markdown",
   "id": "ff987f58",
   "metadata": {
    "id": "uDV9I-lkPEh9"
   },
   "source": [
    "# Parkinson's Disease Using Magnetic Resonance Imaging with Deep Learning Techniques\n",
    "\n",
    "\n",
    "\n",
    "---\n",
    "\n",
    "\n",
    "\n",
    "---\n",
    "\n",
    "\n",
    "\n"
   ]
  },
  {
   "cell_type": "markdown",
   "id": "e222dd51",
   "metadata": {
    "id": "ppNrPy8aPbtf"
   },
   "source": [
    "## Importing Modules"
   ]
  },
  {
   "cell_type": "code",
   "execution_count": 1,
   "id": "9c6ea2c3",
   "metadata": {
    "executionInfo": {
     "elapsed": 3794,
     "status": "ok",
     "timestamp": 1664068427506,
     "user": {
      "displayName": "Preethika Ajay kumar",
      "userId": "02585285017962127374"
     },
     "user_tz": -330
    },
    "id": "forbidden-algorithm"
   },
   "outputs": [],
   "source": [
    "import tensorflow as tf\n",
    "import numpy as np\n",
    "from tensorflow import keras\n",
    "import os\n",
    "from tensorflow.keras.preprocessing.image import ImageDataGenerator\n",
    "from tensorflow.keras.preprocessing import image\n",
    "import matplotlib.pyplot as plt"
   ]
  },
  {
   "cell_type": "markdown",
   "id": "66b42be3",
   "metadata": {
    "id": "N8NabkqePhoX"
   },
   "source": [
    "## Preparing Dataset"
   ]
  },
  {
   "cell_type": "code",
   "execution_count": 2,
   "id": "e6c631d7",
   "metadata": {
    "executionInfo": {
     "elapsed": 406,
     "status": "ok",
     "timestamp": 1664069375728,
     "user": {
      "displayName": "Preethika Ajay kumar",
      "userId": "02585285017962127374"
     },
     "user_tz": -330
    },
    "id": "future-sarah"
   },
   "outputs": [],
   "source": [
    "height_ = 512\n",
    "width_ = 512"
   ]
  },
  {
   "cell_type": "code",
   "execution_count": 3,
   "id": "1bdfdac9",
   "metadata": {
    "colab": {
     "base_uri": "https://localhost:8080/"
    },
    "executionInfo": {
     "elapsed": 27987,
     "status": "ok",
     "timestamp": 1664068463907,
     "user": {
      "displayName": "Preethika Ajay kumar",
      "userId": "02585285017962127374"
     },
     "user_tz": -330
    },
    "id": "FPgc1H11CYkQ",
    "outputId": "253ffe45-d73c-456b-c86e-8f693fc03d2c"
   },
   "outputs": [],
   "source": [
    "# from google.colab import drive\n",
    "# drive.mount('/content/drive/')"
   ]
  },
  {
   "cell_type": "code",
   "execution_count": 4,
   "id": "30ed91fd",
   "metadata": {
    "executionInfo": {
     "elapsed": 408,
     "status": "ok",
     "timestamp": 1664068476774,
     "user": {
      "displayName": "Preethika Ajay kumar",
      "userId": "02585285017962127374"
     },
     "user_tz": -330
    },
    "id": "apparent-phrase"
   },
   "outputs": [],
   "source": [
    "train = ImageDataGenerator(rescale=1/255, rotation_range = 0.2, brightness_range = (0.1,0.3))\n",
    "test = ImageDataGenerator(rescale=1/255, rotation_range = 0.2, brightness_range = (0.1,0.3))"
   ]
  },
  {
   "cell_type": "code",
   "execution_count": 5,
   "id": "9c7ca547",
   "metadata": {
    "colab": {
     "base_uri": "https://localhost:8080/"
    },
    "executionInfo": {
     "elapsed": 438,
     "status": "ok",
     "timestamp": 1664068468890,
     "user": {
      "displayName": "Preethika Ajay kumar",
      "userId": "02585285017962127374"
     },
     "user_tz": -330
    },
    "id": "ojnVPNqAjhXZ",
    "outputId": "8beb098e-416e-4e07-e6ea-021f017cd7d8"
   },
   "outputs": [],
   "source": [
    "# cd drive/MyDrive"
   ]
  },
  {
   "cell_type": "code",
   "execution_count": 6,
   "id": "1f4ab125",
   "metadata": {
    "colab": {
     "base_uri": "https://localhost:8080/"
    },
    "executionInfo": {
     "elapsed": 1829,
     "status": "ok",
     "timestamp": 1664068483224,
     "user": {
      "displayName": "Preethika Ajay kumar",
      "userId": "02585285017962127374"
     },
     "user_tz": -330
    },
    "id": "dominant-independence",
    "outputId": "8d77d1fc-356c-476a-d557-80e073ada8c0"
   },
   "outputs": [
    {
     "name": "stdout",
     "output_type": "stream",
     "text": [
      "Found 825 images belonging to 2 classes.\n",
      "Found 166 images belonging to 2 classes.\n"
     ]
    }
   ],
   "source": [
    "train_dataset = train.flow_from_directory(\"Train/Train/\",\n",
    "                                          target_size=(width_, height_), \n",
    "                                            # color_mode='grayscale',\n",
    "                                            batch_size=8,\n",
    "                                            class_mode='binary')\n",
    "                                         \n",
    "val_dataset = test.flow_from_directory(\"Test/Test/\",\n",
    "                                          target_size=(width_, height_),\n",
    "                                            # color_mode='grayscale',\n",
    "                                            batch_size=8,\n",
    "                                            class_mode='binary')"
   ]
  },
  {
   "cell_type": "code",
   "execution_count": 7,
   "id": "96bf64ed",
   "metadata": {
    "colab": {
     "base_uri": "https://localhost:8080/"
    },
    "executionInfo": {
     "elapsed": 436,
     "status": "ok",
     "timestamp": 1664068485794,
     "user": {
      "displayName": "Preethika Ajay kumar",
      "userId": "02585285017962127374"
     },
     "user_tz": -330
    },
    "id": "urban-idaho",
    "outputId": "8f54f5cd-8caa-4305-8b38-df08686e8c20"
   },
   "outputs": [
    {
     "data": {
      "text/plain": [
       "{'Normal': 0, 'Parkinson': 1}"
      ]
     },
     "execution_count": 7,
     "metadata": {},
     "output_type": "execute_result"
    }
   ],
   "source": [
    "train_dataset.class_indices"
   ]
  },
  {
   "cell_type": "markdown",
   "id": "c24d7715",
   "metadata": {
    "id": "VGxtzLm6PlID"
   },
   "source": [
    "## Preparing Model"
   ]
  },
  {
   "cell_type": "markdown",
   "id": "1a5cbebb",
   "metadata": {
    "executionInfo": {
     "elapsed": 1055,
     "status": "ok",
     "timestamp": 1664068491302,
     "user": {
      "displayName": "Preethika Ajay kumar",
      "userId": "02585285017962127374"
     },
     "user_tz": -330
    },
    "id": "earlier-albert"
   },
   "source": [
    "with tf.device('/device:GPU:0'):\n",
    "    SIZE_OF_IP = (width_, height_, 3) \n",
    "    model = keras.Sequential()\n",
    "\n",
    "    # Convolutional layer and maxpool layer 1\n",
    "    model.add(keras.layers.Conv2D(32,(3,3),activation='relu',input_shape=SIZE_OF_IP))\n",
    "    model.add(keras.layers.MaxPool2D(2,2))\n",
    "\n",
    "    # Convolutional layer and maxpool layer 2\n",
    "    model.add(keras.layers.Conv2D(64,(3,3),activation='relu'))\n",
    "    model.add(keras.layers.MaxPool2D(2,2))\n",
    "\n",
    "    # Convolutional layer and maxpool layer 3\n",
    "    model.add(keras.layers.Conv2D(128,(3,3),activation='relu'))\n",
    "    model.add(keras.layers.MaxPool2D(2,2))\n",
    "    model.add(keras.layers.Dropout(0.2))\n",
    "\n",
    "\n",
    "    # # Convolutional layer and maxpool layer 4\n",
    "    # model.add(keras.layers.Conv2D(128,(3,3),activation='relu'))\n",
    "    # model.add(keras.layers.MaxPool2D(2,2))\n",
    "\n",
    "    model.add(keras.layers.Flatten())\n",
    "    model.add(keras.layers.Dense(512,activation='relu'))\n",
    "\n",
    "   # Op layer\n",
    "    model.add(keras.layers.Dense(1,activation='sigmoid'))"
   ]
  },
  {
   "cell_type": "code",
   "execution_count": 8,
   "id": "ab884fe1",
   "metadata": {},
   "outputs": [],
   "source": [
    "from tensorflow.keras.layers import Dropout\n",
    "from tensorflow.keras.models import Sequential\n",
    "from tensorflow.keras.layers import Convolution2D\n",
    "from tensorflow.keras.layers import MaxPooling2D\n",
    "from tensorflow.keras.layers import Flatten\n",
    "from tensorflow.keras.layers import Dense\n",
    "from tensorflow.keras.callbacks import TensorBoard,EarlyStopping\n",
    "\n",
    "lesion_Classifier=Sequential()\n",
    "lesion_Classifier.add(Convolution2D(16,(3,3),input_shape=(512,512,3),activation='relu'))\n",
    "lesion_Classifier.add(MaxPooling2D(pool_size=(2,2)))\n",
    "lesion_Classifier.add(Convolution2D(32,(3,3),activation='relu'))\n",
    "lesion_Classifier.add(MaxPooling2D(pool_size=(2,2)))\n",
    "lesion_Classifier.add(Convolution2D(64,(3,3),activation='relu'))\n",
    "lesion_Classifier.add(MaxPooling2D(pool_size=(2,2)))\n",
    "lesion_Classifier.add(Convolution2D(64,(3,3),activation='relu'))\n",
    "lesion_Classifier.add(MaxPooling2D(pool_size=(2,2)))\n",
    "lesion_Classifier.add(Convolution2D(128,(3,3),activation='relu'))\n",
    "lesion_Classifier.add(MaxPooling2D(pool_size=(2,2)))\n",
    "lesion_Classifier.add(Convolution2D(128,(3,3),activation='relu'))\n",
    "lesion_Classifier.add(MaxPooling2D(pool_size=(2,2)))\n",
    "\n",
    "lesion_Classifier.add(Flatten())\n",
    "lesion_Classifier.add(Dense(512,activation='relu'))\n",
    "lesion_Classifier.add(Dense(256,activation='relu'))\n",
    "lesion_Classifier.add(Dense(1,activation='softmax'))"
   ]
  },
  {
   "cell_type": "markdown",
   "id": "83cd6029",
   "metadata": {
    "id": "rzOdeYhtPopX"
   },
   "source": [
    "## Training"
   ]
  },
  {
   "cell_type": "code",
   "execution_count": null,
   "id": "7042104a",
   "metadata": {
    "colab": {
     "base_uri": "https://localhost:8080/"
    },
    "executionInfo": {
     "elapsed": 124372,
     "status": "ok",
     "timestamp": 1664068622693,
     "user": {
      "displayName": "Preethika Ajay kumar",
      "userId": "02585285017962127374"
     },
     "user_tz": -330
    },
    "id": "measured-likelihood",
    "outputId": "b1017bdf-4b4e-4541-d11b-f832e82a7c0d"
   },
   "outputs": [
    {
     "name": "stdout",
     "output_type": "stream",
     "text": [
      "Epoch 1/50\n",
      "104/104 [==============================] - 190s 2s/step - loss: 0.0000e+00 - accuracy: 0.4085 - val_loss: 0.0000e+00 - val_accuracy: 0.2651\n",
      "Epoch 2/50\n",
      "104/104 [==============================] - 179s 2s/step - loss: 0.0000e+00 - accuracy: 0.4085 - val_loss: 0.0000e+00 - val_accuracy: 0.2651\n",
      "Epoch 3/50\n",
      "104/104 [==============================] - 181s 2s/step - loss: 0.0000e+00 - accuracy: 0.4085 - val_loss: 0.0000e+00 - val_accuracy: 0.2651\n",
      "Epoch 4/50\n",
      "104/104 [==============================] - 181s 2s/step - loss: nan - accuracy: 0.4848 - val_loss: nan - val_accuracy: 0.7349\n",
      "Epoch 5/50\n",
      "104/104 [==============================] - 190s 2s/step - loss: nan - accuracy: 0.5915 - val_loss: nan - val_accuracy: 0.7349\n",
      "Epoch 6/50\n",
      " 69/104 [==================>...........] - ETA: 54s - loss: nan - accuracy: 0.5888"
     ]
    }
   ],
   "source": [
    "with tf.device('/device:GPU:0'):\n",
    "    lesion_Classifier.compile(optimizer='adam',loss='categorical_crossentropy',metrics=['accuracy'])\n",
    "    es = EarlyStopping(monitor='val_loss', mode='min', verbose=1, patience=10)\n",
    "    history=lesion_Classifier.fit(train_dataset,epochs=50,validation_data = val_dataset,callbacks=[es])\n",
    "\n",
    "#     history = model.fit(train_dataset,epochs = 15,validation_data = val_dataset)"
   ]
  },
  {
   "cell_type": "code",
   "execution_count": null,
   "id": "8fc3eb49",
   "metadata": {
    "colab": {
     "base_uri": "https://localhost:8080/",
     "height": 317
    },
    "executionInfo": {
     "elapsed": 710,
     "status": "ok",
     "timestamp": 1664011063228,
     "user": {
      "displayName": "Preethika Ajay kumar",
      "userId": "02585285017962127374"
     },
     "user_tz": -330
    },
    "id": "PRhNxworHuh9",
    "outputId": "99c416cf-c9fd-4b32-defe-f32df9c39cae"
   },
   "outputs": [],
   "source": [
    "acc = history.history['accuracy']\n",
    "val_acc = history.history['val_accuracy']\n",
    "epochs = range(len(acc))\n",
    "\n",
    "plt.plot(epochs, acc, 'b', label='Training Accuracy')\n",
    "plt.plot(epochs, val_acc, 'r', label='Validation Accuracy')\n",
    "plt.title('Accuracy Graph')\n",
    "plt.legend()\n",
    "plt.figure()\n"
   ]
  },
  {
   "cell_type": "markdown",
   "id": "a3af8e04",
   "metadata": {
    "id": "0O3b6pHWP6_7"
   },
   "source": [
    "## Saving Model"
   ]
  },
  {
   "cell_type": "markdown",
   "id": "2cbcb522",
   "metadata": {
    "id": "0lj9aARxP6s5"
   },
   "source": [
    "#model.save(\"park_grayscale_drop_git.h5\")"
   ]
  },
  {
   "cell_type": "markdown",
   "id": "4d1dd3ff",
   "metadata": {
    "id": "GvlRMFiwPszs"
   },
   "source": [
    "## Loading Model"
   ]
  },
  {
   "cell_type": "code",
   "execution_count": null,
   "id": "9cdcc253",
   "metadata": {
    "colab": {
     "base_uri": "https://localhost:8080/"
    },
    "executionInfo": {
     "elapsed": 3599,
     "status": "ok",
     "timestamp": 1664068788076,
     "user": {
      "displayName": "Preethika Ajay kumar",
      "userId": "02585285017962127374"
     },
     "user_tz": -330
    },
    "id": "1ZjXyWsPOROW",
    "outputId": "697a8109-bda7-48d0-a504-3df20c6a35a6"
   },
   "outputs": [],
   "source": [
    "from keras import models\n",
    "\n",
    "savedModel = models.load_model('park_grayscale_drop_git.h5')\n",
    "savedModel.summary()"
   ]
  },
  {
   "cell_type": "markdown",
   "id": "79ea4c9a",
   "metadata": {
    "id": "tgGRYR-lPzQs"
   },
   "source": [
    "## Inferencing"
   ]
  },
  {
   "cell_type": "code",
   "execution_count": null,
   "id": "a0e41710",
   "metadata": {},
   "outputs": [],
   "source": [
    "from PIL import Image, ImageOps"
   ]
  },
  {
   "cell_type": "code",
   "execution_count": null,
   "id": "f2fc11c8",
   "metadata": {
    "executionInfo": {
     "elapsed": 408,
     "status": "ok",
     "timestamp": 1664068819403,
     "user": {
      "displayName": "Preethika Ajay kumar",
      "userId": "02585285017962127374"
     },
     "user_tz": -330
    },
    "id": "ndn9td8PIVZC"
   },
   "outputs": [],
   "source": [
    "def make_list_of_imgs(path):\n",
    "    imgs = []\n",
    "    valid_images = [\".png\"]\n",
    "    for f in os.listdir(path):\n",
    "        ext = os.path.splitext(f)[1]\n",
    "        if ext.lower() not in valid_images:\n",
    "            continue\n",
    "        imgs.append(path + f)\n",
    "    return imgs"
   ]
  },
  {
   "cell_type": "code",
   "execution_count": null,
   "id": "6236c548",
   "metadata": {
    "executionInfo": {
     "elapsed": 5,
     "status": "ok",
     "timestamp": 1664068842257,
     "user": {
      "displayName": "Preethika Ajay kumar",
      "userId": "02585285017962127374"
     },
     "user_tz": -330
    },
    "id": "KofxRtMMOpIL"
   },
   "outputs": [],
   "source": [
    "def tumor_prediction(*argv): \n",
    "    count_p = 0\n",
    "    count_n = 0\n",
    "    for arg in argv: \n",
    "        for filename in arg:\n",
    "            # image_read = cv2.imread(filename)\n",
    "            print(filename)\n",
    "            im = Image.open(filename)\n",
    "            im2 = im.convert('RGB')\n",
    "            im2 = im2.resize((100, 100))\n",
    "            # print(im1.shape)\n",
    "            # image_read = cv2.resize(image_read, (height_, width_))\n",
    "            image = np.array(im2) \n",
    "            # image = np.reshape(image, [100, 100, 3])\n",
    "            plt.show()\n",
    "            plt.imshow(image)\n",
    "           \n",
    "            X = np.expand_dims(image,axis=0)\n",
    "            result = savedModel.predict(X)\n",
    "#             print(val)\n",
    "            if result == 1:\n",
    "                plt.xlabel(\"Parkinsons\",fontsize=15)\n",
    "                count_p += 1\n",
    "\n",
    "\n",
    "            elif result == 0:\n",
    "                plt.xlabel(\"Normal\",fontsize=15)\n",
    "                count_n += 1\n",
    "#         print(\"Normal: \", count_n)\n",
    "#         print(\"Parkinsons: \", count_p)\n",
    "    return count_p, count_n"
   ]
  },
  {
   "cell_type": "markdown",
   "id": "bccd7932",
   "metadata": {
    "id": "y88Ak3y6QF4L"
   },
   "source": [
    "### Testing on MRI images without Parkinson's Carcinoma"
   ]
  },
  {
   "cell_type": "code",
   "execution_count": null,
   "id": "947fec5f",
   "metadata": {},
   "outputs": [],
   "source": [
    "fp, tn = tumor_prediction(make_list_of_imgs('Test/Test/Normal/') )\n",
    "print(fp, tn)\n",
    "# make_list_of_imgs('Test/Normal/')"
   ]
  },
  {
   "cell_type": "markdown",
   "id": "7480a2a6",
   "metadata": {
    "id": "zx3X79v_Qcl4"
   },
   "source": [
    "### Testing with MRI images with Parkinson's carcinoma"
   ]
  },
  {
   "cell_type": "code",
   "execution_count": null,
   "id": "e179baa0",
   "metadata": {
    "colab": {
     "base_uri": "https://localhost:8080/",
     "height": 1000
    },
    "executionInfo": {
     "elapsed": 7308,
     "status": "ok",
     "timestamp": 1664069289445,
     "user": {
      "displayName": "Preethika Ajay kumar",
      "userId": "02585285017962127374"
     },
     "user_tz": -330
    },
    "id": "wREE-vkAQaPM",
    "outputId": "0d5c5cb2-1262-41db-8a82-7e8337ca9e18"
   },
   "outputs": [],
   "source": [
    "tp, fn = tumor_prediction(make_list_of_imgs('Test/Test/Parkinson/') )#classified\n",
    "print(tp, fn)"
   ]
  },
  {
   "cell_type": "code",
   "execution_count": null,
   "id": "2d6b2f20",
   "metadata": {
    "id": "l3zLYQL7SqnK"
   },
   "outputs": [],
   "source": [
    "def accuracy_cnn(tp, tn, fp, fn):\n",
    "    return (tp + tn)/(tp + tn + fp + fn)"
   ]
  },
  {
   "cell_type": "code",
   "execution_count": null,
   "id": "ceb8e291",
   "metadata": {},
   "outputs": [],
   "source": []
  }
 ],
 "metadata": {
  "colab": {
   "collapsed_sections": [],
   "provenance": [
    {
     "file_id": "12yih_Szxm7pQcYkFBXXhTeL_VdVt1m0z",
     "timestamp": 1663999657827
    }
   ]
  },
  "kernelspec": {
   "display_name": "Python 3 (ipykernel)",
   "language": "python",
   "name": "python3"
  },
  "language_info": {
   "codemirror_mode": {
    "name": "ipython",
    "version": 3
   },
   "file_extension": ".py",
   "mimetype": "text/x-python",
   "name": "python",
   "nbconvert_exporter": "python",
   "pygments_lexer": "ipython3",
   "version": "3.10.1"
  }
 },
 "nbformat": 4,
 "nbformat_minor": 5
}
